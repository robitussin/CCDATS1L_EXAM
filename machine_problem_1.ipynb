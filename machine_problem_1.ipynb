{
 "cells": [
  {
   "cell_type": "markdown",
   "metadata": {},
   "source": [
    "# Machine Problem 1"
   ]
  },
  {
   "cell_type": "code",
   "execution_count": 3243,
   "metadata": {},
   "outputs": [],
   "source": [
    "import pandas as pd\n",
    "from sklearn.preprocessing import MinMaxScaler\n",
    "import matplotlib.pyplot as plt\n",
    "import seaborn as sns"
   ]
  },
  {
   "cell_type": "markdown",
   "metadata": {},
   "source": [
    "## Data Cleaning"
   ]
  },
  {
   "cell_type": "code",
   "execution_count": 3244,
   "metadata": {},
   "outputs": [],
   "source": [
    "# put your answer here\n",
    "df = pd.read_csv('food.csv')"
   ]
  },
  {
   "cell_type": "markdown",
   "metadata": {},
   "source": [
    "1. Remove all duplicates in the dataset"
   ]
  },
  {
   "cell_type": "code",
   "execution_count": 3245,
   "metadata": {},
   "outputs": [],
   "source": [
    "# put your answer here\n",
    "df.drop_duplicates(inplace = True)"
   ]
  },
  {
   "cell_type": "markdown",
   "metadata": {},
   "source": [
    "2. Use the `isnull()` and `.any()` function to check for NaN values in each column"
   ]
  },
  {
   "cell_type": "code",
   "execution_count": 3246,
   "metadata": {},
   "outputs": [
    {
     "data": {
      "text/plain": [
       "GPA                  True\n",
       "Gender              False\n",
       "breakfast           False\n",
       "calories_chicken    False\n",
       "calories_day         True\n",
       "                    ...  \n",
       "type_sports          True\n",
       "veggies_day         False\n",
       "vitamins            False\n",
       "waffle_calories     False\n",
       "weight               True\n",
       "Length: 61, dtype: bool"
      ]
     },
     "execution_count": 3246,
     "metadata": {},
     "output_type": "execute_result"
    }
   ],
   "source": [
    "# put your answer here\n",
    "df.isnull().any()"
   ]
  },
  {
   "cell_type": "markdown",
   "metadata": {},
   "source": [
    "3. Retrive all rows with NaN values in the dataset by using `isnull()` and `.any()` inside a dataframe"
   ]
  },
  {
   "cell_type": "code",
   "execution_count": 3247,
   "metadata": {},
   "outputs": [
    {
     "data": {
      "text/html": [
       "<div>\n",
       "<style scoped>\n",
       "    .dataframe tbody tr th:only-of-type {\n",
       "        vertical-align: middle;\n",
       "    }\n",
       "\n",
       "    .dataframe tbody tr th {\n",
       "        vertical-align: top;\n",
       "    }\n",
       "\n",
       "    .dataframe thead th {\n",
       "        text-align: right;\n",
       "    }\n",
       "</style>\n",
       "<table border=\"1\" class=\"dataframe\">\n",
       "  <thead>\n",
       "    <tr style=\"text-align: right;\">\n",
       "      <th></th>\n",
       "      <th>GPA</th>\n",
       "      <th>Gender</th>\n",
       "      <th>breakfast</th>\n",
       "      <th>calories_chicken</th>\n",
       "      <th>calories_day</th>\n",
       "      <th>calories_scone</th>\n",
       "      <th>coffee</th>\n",
       "      <th>comfort_food</th>\n",
       "      <th>comfort_food_reasons</th>\n",
       "      <th>comfort_food_reasons_coded</th>\n",
       "      <th>...</th>\n",
       "      <th>soup</th>\n",
       "      <th>sports</th>\n",
       "      <th>thai_food</th>\n",
       "      <th>tortilla_calories</th>\n",
       "      <th>turkey_calories</th>\n",
       "      <th>type_sports</th>\n",
       "      <th>veggies_day</th>\n",
       "      <th>vitamins</th>\n",
       "      <th>waffle_calories</th>\n",
       "      <th>weight</th>\n",
       "    </tr>\n",
       "  </thead>\n",
       "  <tbody>\n",
       "    <tr>\n",
       "      <th>0</th>\n",
       "      <td>2.4</td>\n",
       "      <td>2</td>\n",
       "      <td>1</td>\n",
       "      <td>430</td>\n",
       "      <td>NaN</td>\n",
       "      <td>315.0</td>\n",
       "      <td>1</td>\n",
       "      <td>none</td>\n",
       "      <td>we dont have comfort</td>\n",
       "      <td>9.0</td>\n",
       "      <td>...</td>\n",
       "      <td>1.0</td>\n",
       "      <td>1.0</td>\n",
       "      <td>1</td>\n",
       "      <td>1165.0</td>\n",
       "      <td>345</td>\n",
       "      <td>car racing</td>\n",
       "      <td>5</td>\n",
       "      <td>1</td>\n",
       "      <td>1315</td>\n",
       "      <td>187</td>\n",
       "    </tr>\n",
       "    <tr>\n",
       "      <th>3</th>\n",
       "      <td>3.2</td>\n",
       "      <td>1</td>\n",
       "      <td>1</td>\n",
       "      <td>430</td>\n",
       "      <td>3.0</td>\n",
       "      <td>420.0</td>\n",
       "      <td>2</td>\n",
       "      <td>Pizza, Mac and cheese, ice cream</td>\n",
       "      <td>Boredom</td>\n",
       "      <td>2.0</td>\n",
       "      <td>...</td>\n",
       "      <td>1.0</td>\n",
       "      <td>2.0</td>\n",
       "      <td>5</td>\n",
       "      <td>725.0</td>\n",
       "      <td>690</td>\n",
       "      <td>NaN</td>\n",
       "      <td>3</td>\n",
       "      <td>1</td>\n",
       "      <td>1315</td>\n",
       "      <td>Not sure, 240</td>\n",
       "    </tr>\n",
       "    <tr>\n",
       "      <th>5</th>\n",
       "      <td>2.25</td>\n",
       "      <td>1</td>\n",
       "      <td>1</td>\n",
       "      <td>610</td>\n",
       "      <td>3.0</td>\n",
       "      <td>980.0</td>\n",
       "      <td>2</td>\n",
       "      <td>Candy, brownies and soda.</td>\n",
       "      <td>None, i don't eat comfort food. I just eat whe...</td>\n",
       "      <td>4.0</td>\n",
       "      <td>...</td>\n",
       "      <td>1.0</td>\n",
       "      <td>2.0</td>\n",
       "      <td>4</td>\n",
       "      <td>940.0</td>\n",
       "      <td>345</td>\n",
       "      <td>None.</td>\n",
       "      <td>1</td>\n",
       "      <td>2</td>\n",
       "      <td>1315</td>\n",
       "      <td>190</td>\n",
       "    </tr>\n",
       "    <tr>\n",
       "      <th>8</th>\n",
       "      <td>3.3</td>\n",
       "      <td>1</td>\n",
       "      <td>1</td>\n",
       "      <td>430</td>\n",
       "      <td>NaN</td>\n",
       "      <td>420.0</td>\n",
       "      <td>1</td>\n",
       "      <td>Donuts, ice cream, chips</td>\n",
       "      <td>Boredom</td>\n",
       "      <td>2.0</td>\n",
       "      <td>...</td>\n",
       "      <td>2.0</td>\n",
       "      <td>2.0</td>\n",
       "      <td>5</td>\n",
       "      <td>725.0</td>\n",
       "      <td>345</td>\n",
       "      <td>none</td>\n",
       "      <td>3</td>\n",
       "      <td>2</td>\n",
       "      <td>760</td>\n",
       "      <td>180</td>\n",
       "    </tr>\n",
       "    <tr>\n",
       "      <th>15</th>\n",
       "      <td>NaN</td>\n",
       "      <td>2</td>\n",
       "      <td>2</td>\n",
       "      <td>430</td>\n",
       "      <td>NaN</td>\n",
       "      <td>980.0</td>\n",
       "      <td>2</td>\n",
       "      <td>cookies, donuts, candy bars</td>\n",
       "      <td>boredom</td>\n",
       "      <td>2.0</td>\n",
       "      <td>...</td>\n",
       "      <td>2.0</td>\n",
       "      <td>1.0</td>\n",
       "      <td>1</td>\n",
       "      <td>940.0</td>\n",
       "      <td>345</td>\n",
       "      <td>Hockey</td>\n",
       "      <td>1</td>\n",
       "      <td>2</td>\n",
       "      <td>1315</td>\n",
       "      <td>180</td>\n",
       "    </tr>\n",
       "    <tr>\n",
       "      <th>...</th>\n",
       "      <td>...</td>\n",
       "      <td>...</td>\n",
       "      <td>...</td>\n",
       "      <td>...</td>\n",
       "      <td>...</td>\n",
       "      <td>...</td>\n",
       "      <td>...</td>\n",
       "      <td>...</td>\n",
       "      <td>...</td>\n",
       "      <td>...</td>\n",
       "      <td>...</td>\n",
       "      <td>...</td>\n",
       "      <td>...</td>\n",
       "      <td>...</td>\n",
       "      <td>...</td>\n",
       "      <td>...</td>\n",
       "      <td>...</td>\n",
       "      <td>...</td>\n",
       "      <td>...</td>\n",
       "      <td>...</td>\n",
       "      <td>...</td>\n",
       "    </tr>\n",
       "    <tr>\n",
       "      <th>120</th>\n",
       "      <td>3.5</td>\n",
       "      <td>1</td>\n",
       "      <td>1</td>\n",
       "      <td>610</td>\n",
       "      <td>4.0</td>\n",
       "      <td>420.0</td>\n",
       "      <td>2</td>\n",
       "      <td>wine. mac and cheese, pizza, ice cream</td>\n",
       "      <td>boredom and sadness</td>\n",
       "      <td>NaN</td>\n",
       "      <td>...</td>\n",
       "      <td>1.0</td>\n",
       "      <td>1.0</td>\n",
       "      <td>5</td>\n",
       "      <td>940.0</td>\n",
       "      <td>500</td>\n",
       "      <td>Softball</td>\n",
       "      <td>5</td>\n",
       "      <td>1</td>\n",
       "      <td>1315</td>\n",
       "      <td>156</td>\n",
       "    </tr>\n",
       "    <tr>\n",
       "      <th>121</th>\n",
       "      <td>3</td>\n",
       "      <td>1</td>\n",
       "      <td>1</td>\n",
       "      <td>265</td>\n",
       "      <td>2.0</td>\n",
       "      <td>315.0</td>\n",
       "      <td>2</td>\n",
       "      <td>Pizza / Wings / Cheesecake</td>\n",
       "      <td>Loneliness / Homesick / Sadness</td>\n",
       "      <td>NaN</td>\n",
       "      <td>...</td>\n",
       "      <td>1.0</td>\n",
       "      <td>NaN</td>\n",
       "      <td>4</td>\n",
       "      <td>940.0</td>\n",
       "      <td>500</td>\n",
       "      <td>basketball</td>\n",
       "      <td>5</td>\n",
       "      <td>2</td>\n",
       "      <td>1315</td>\n",
       "      <td>180</td>\n",
       "    </tr>\n",
       "    <tr>\n",
       "      <th>122</th>\n",
       "      <td>3.882</td>\n",
       "      <td>1</td>\n",
       "      <td>1</td>\n",
       "      <td>720</td>\n",
       "      <td>NaN</td>\n",
       "      <td>420.0</td>\n",
       "      <td>1</td>\n",
       "      <td>rice, potato, seaweed soup</td>\n",
       "      <td>sadness</td>\n",
       "      <td>NaN</td>\n",
       "      <td>...</td>\n",
       "      <td>1.0</td>\n",
       "      <td>2.0</td>\n",
       "      <td>5</td>\n",
       "      <td>580.0</td>\n",
       "      <td>690</td>\n",
       "      <td>none</td>\n",
       "      <td>4</td>\n",
       "      <td>2</td>\n",
       "      <td>1315</td>\n",
       "      <td>120</td>\n",
       "    </tr>\n",
       "    <tr>\n",
       "      <th>123</th>\n",
       "      <td>3</td>\n",
       "      <td>2</td>\n",
       "      <td>1</td>\n",
       "      <td>720</td>\n",
       "      <td>4.0</td>\n",
       "      <td>420.0</td>\n",
       "      <td>1</td>\n",
       "      <td>Mac n Cheese, Lasagna, Pizza</td>\n",
       "      <td>happiness, they are some of my favorite foods</td>\n",
       "      <td>NaN</td>\n",
       "      <td>...</td>\n",
       "      <td>2.0</td>\n",
       "      <td>2.0</td>\n",
       "      <td>1</td>\n",
       "      <td>940.0</td>\n",
       "      <td>500</td>\n",
       "      <td>NaN</td>\n",
       "      <td>3</td>\n",
       "      <td>1</td>\n",
       "      <td>1315</td>\n",
       "      <td>135</td>\n",
       "    </tr>\n",
       "    <tr>\n",
       "      <th>124</th>\n",
       "      <td>3.9</td>\n",
       "      <td>1</td>\n",
       "      <td>1</td>\n",
       "      <td>430</td>\n",
       "      <td>NaN</td>\n",
       "      <td>315.0</td>\n",
       "      <td>2</td>\n",
       "      <td>Chocolates, pizza, and Ritz.</td>\n",
       "      <td>hormones, Premenstrual syndrome.</td>\n",
       "      <td>NaN</td>\n",
       "      <td>...</td>\n",
       "      <td>1.0</td>\n",
       "      <td>2.0</td>\n",
       "      <td>2</td>\n",
       "      <td>725.0</td>\n",
       "      <td>345</td>\n",
       "      <td>NaN</td>\n",
       "      <td>4</td>\n",
       "      <td>2</td>\n",
       "      <td>575</td>\n",
       "      <td>135</td>\n",
       "    </tr>\n",
       "  </tbody>\n",
       "</table>\n",
       "<p>73 rows × 61 columns</p>\n",
       "</div>"
      ],
      "text/plain": [
       "       GPA  Gender  breakfast  calories_chicken  calories_day  calories_scone   \n",
       "0      2.4       2          1               430           NaN           315.0  \\\n",
       "3      3.2       1          1               430           3.0           420.0   \n",
       "5     2.25       1          1               610           3.0           980.0   \n",
       "8      3.3       1          1               430           NaN           420.0   \n",
       "15     NaN       2          2               430           NaN           980.0   \n",
       "..     ...     ...        ...               ...           ...             ...   \n",
       "120    3.5       1          1               610           4.0           420.0   \n",
       "121      3       1          1               265           2.0           315.0   \n",
       "122  3.882       1          1               720           NaN           420.0   \n",
       "123      3       2          1               720           4.0           420.0   \n",
       "124    3.9       1          1               430           NaN           315.0   \n",
       "\n",
       "     coffee                             comfort_food   \n",
       "0         1                                     none  \\\n",
       "3         2         Pizza, Mac and cheese, ice cream   \n",
       "5         2                Candy, brownies and soda.   \n",
       "8         1                 Donuts, ice cream, chips   \n",
       "15        2              cookies, donuts, candy bars   \n",
       "..      ...                                      ...   \n",
       "120       2  wine. mac and cheese, pizza, ice cream    \n",
       "121       2               Pizza / Wings / Cheesecake   \n",
       "122       1               rice, potato, seaweed soup   \n",
       "123       1             Mac n Cheese, Lasagna, Pizza   \n",
       "124       2             Chocolates, pizza, and Ritz.   \n",
       "\n",
       "                                  comfort_food_reasons   \n",
       "0                                we dont have comfort   \\\n",
       "3                                              Boredom   \n",
       "5    None, i don't eat comfort food. I just eat whe...   \n",
       "8                                             Boredom    \n",
       "15                                             boredom   \n",
       "..                                                 ...   \n",
       "120                               boredom and sadness    \n",
       "121                    Loneliness / Homesick / Sadness   \n",
       "122                                            sadness   \n",
       "123      happiness, they are some of my favorite foods   \n",
       "124                   hormones, Premenstrual syndrome.   \n",
       "\n",
       "     comfort_food_reasons_coded  ...  soup  sports  thai_food   \n",
       "0                           9.0  ...   1.0     1.0          1  \\\n",
       "3                           2.0  ...   1.0     2.0          5   \n",
       "5                           4.0  ...   1.0     2.0          4   \n",
       "8                           2.0  ...   2.0     2.0          5   \n",
       "15                          2.0  ...   2.0     1.0          1   \n",
       "..                          ...  ...   ...     ...        ...   \n",
       "120                         NaN  ...   1.0     1.0          5   \n",
       "121                         NaN  ...   1.0     NaN          4   \n",
       "122                         NaN  ...   1.0     2.0          5   \n",
       "123                         NaN  ...   2.0     2.0          1   \n",
       "124                         NaN  ...   1.0     2.0          2   \n",
       "\n",
       "    tortilla_calories  turkey_calories  type_sports veggies_day  vitamins   \n",
       "0              1165.0              345   car racing           5         1  \\\n",
       "3               725.0              690          NaN           3         1   \n",
       "5               940.0              345        None.           1         2   \n",
       "8               725.0              345         none           3         2   \n",
       "15              940.0              345       Hockey           1         2   \n",
       "..                ...              ...          ...         ...       ...   \n",
       "120             940.0              500     Softball           5         1   \n",
       "121             940.0              500  basketball            5         2   \n",
       "122             580.0              690         none           4         2   \n",
       "123             940.0              500          NaN           3         1   \n",
       "124             725.0              345          NaN           4         2   \n",
       "\n",
       "     waffle_calories         weight  \n",
       "0               1315            187  \n",
       "3               1315  Not sure, 240  \n",
       "5               1315            190  \n",
       "8                760            180  \n",
       "15              1315            180  \n",
       "..               ...            ...  \n",
       "120             1315            156  \n",
       "121             1315            180  \n",
       "122             1315            120  \n",
       "123             1315            135  \n",
       "124              575            135  \n",
       "\n",
       "[73 rows x 61 columns]"
      ]
     },
     "execution_count": 3247,
     "metadata": {},
     "output_type": "execute_result"
    }
   ],
   "source": [
    "df[df.isnull().any(axis=1)]"
   ]
  },
  {
   "cell_type": "markdown",
   "metadata": {},
   "source": [
    "4. Put all columns with NaN values in a list. Print the contents of the list"
   ]
  },
  {
   "cell_type": "code",
   "execution_count": 3248,
   "metadata": {},
   "outputs": [
    {
     "data": {
      "text/plain": [
       "['GPA',\n",
       " 'calories_day',\n",
       " 'calories_scone',\n",
       " 'comfort_food',\n",
       " 'comfort_food_reasons',\n",
       " 'comfort_food_reasons_coded',\n",
       " 'cook',\n",
       " 'cuisine',\n",
       " 'diet_current',\n",
       " 'drink',\n",
       " 'eating_changes',\n",
       " 'employment',\n",
       " 'exercise',\n",
       " 'father_education',\n",
       " 'father_profession',\n",
       " 'fav_cuisine',\n",
       " 'fav_food',\n",
       " 'food_childhood',\n",
       " 'healthy_meal',\n",
       " 'ideal_diet',\n",
       " 'income',\n",
       " 'life_rewarding',\n",
       " 'marital_status',\n",
       " 'meals_dinner_friend',\n",
       " 'mother_education',\n",
       " 'mother_profession',\n",
       " 'on_off_campus',\n",
       " 'persian_food',\n",
       " 'self_perception_weight',\n",
       " 'soup',\n",
       " 'sports',\n",
       " 'tortilla_calories',\n",
       " 'type_sports',\n",
       " 'weight']"
      ]
     },
     "execution_count": 3248,
     "metadata": {},
     "output_type": "execute_result"
    }
   ],
   "source": [
    "myseries = df.isnull().any()\n",
    "\n",
    "column_with_nan_values = []\n",
    "\n",
    "for index, value in myseries.items():\n",
    "    if value == True:\n",
    "        column_with_nan_values.append(index)\n",
    "\n",
    "column_with_nan_values"
   ]
  },
  {
   "cell_type": "markdown",
   "metadata": {},
   "source": [
    "5. Loop through the list that contains columns with NaN values and use the `.fillna()` function to replace NaN values with empty an string."
   ]
  },
  {
   "cell_type": "code",
   "execution_count": 3249,
   "metadata": {},
   "outputs": [],
   "source": [
    "for column in column_with_nan_values:\n",
    "    df[column] = df[column].fillna(\"\")"
   ]
  },
  {
   "cell_type": "markdown",
   "metadata": {},
   "source": [
    "6. In th GPA column, replace non-numeric values with zeroes."
   ]
  },
  {
   "cell_type": "code",
   "execution_count": 3250,
   "metadata": {},
   "outputs": [],
   "source": [
    "# put your answer here\n",
    "df['GPA'] = (pd.to_numeric(df['GPA'],errors='coerce').fillna(0))"
   ]
  },
  {
   "cell_type": "markdown",
   "metadata": {},
   "source": [
    "7. In the comfort_food column, replace empty values with \"none\""
   ]
  },
  {
   "cell_type": "code",
   "execution_count": 3251,
   "metadata": {},
   "outputs": [
    {
     "data": {
      "text/plain": [
       "'none'"
      ]
     },
     "execution_count": 3251,
     "metadata": {},
     "output_type": "execute_result"
    }
   ],
   "source": [
    "# put your answer here\n",
    "df['comfort_food'].replace(\"\", value=\"none\", inplace = True)\n",
    "\n",
    "df.loc[74]['comfort_food']"
   ]
  },
  {
   "cell_type": "markdown",
   "metadata": {},
   "source": [
    "8. In the weight column, remove non-numeric values"
   ]
  },
  {
   "cell_type": "code",
   "execution_count": 3252,
   "metadata": {},
   "outputs": [
    {
     "data": {
      "text/html": [
       "<div>\n",
       "<style scoped>\n",
       "    .dataframe tbody tr th:only-of-type {\n",
       "        vertical-align: middle;\n",
       "    }\n",
       "\n",
       "    .dataframe tbody tr th {\n",
       "        vertical-align: top;\n",
       "    }\n",
       "\n",
       "    .dataframe thead th {\n",
       "        text-align: right;\n",
       "    }\n",
       "</style>\n",
       "<table border=\"1\" class=\"dataframe\">\n",
       "  <thead>\n",
       "    <tr style=\"text-align: right;\">\n",
       "      <th></th>\n",
       "      <th>GPA</th>\n",
       "      <th>Gender</th>\n",
       "      <th>breakfast</th>\n",
       "      <th>calories_chicken</th>\n",
       "      <th>calories_day</th>\n",
       "      <th>calories_scone</th>\n",
       "      <th>coffee</th>\n",
       "      <th>comfort_food</th>\n",
       "      <th>comfort_food_reasons</th>\n",
       "      <th>comfort_food_reasons_coded</th>\n",
       "      <th>...</th>\n",
       "      <th>soup</th>\n",
       "      <th>sports</th>\n",
       "      <th>thai_food</th>\n",
       "      <th>tortilla_calories</th>\n",
       "      <th>turkey_calories</th>\n",
       "      <th>type_sports</th>\n",
       "      <th>veggies_day</th>\n",
       "      <th>vitamins</th>\n",
       "      <th>waffle_calories</th>\n",
       "      <th>weight</th>\n",
       "    </tr>\n",
       "  </thead>\n",
       "  <tbody>\n",
       "    <tr>\n",
       "      <th>0</th>\n",
       "      <td>2.400</td>\n",
       "      <td>2</td>\n",
       "      <td>1</td>\n",
       "      <td>430</td>\n",
       "      <td></td>\n",
       "      <td>315.0</td>\n",
       "      <td>1</td>\n",
       "      <td>none</td>\n",
       "      <td>we dont have comfort</td>\n",
       "      <td>9.0</td>\n",
       "      <td>...</td>\n",
       "      <td>1.0</td>\n",
       "      <td>1.0</td>\n",
       "      <td>1</td>\n",
       "      <td>1165.0</td>\n",
       "      <td>345</td>\n",
       "      <td>car racing</td>\n",
       "      <td>5</td>\n",
       "      <td>1</td>\n",
       "      <td>1315</td>\n",
       "      <td>187</td>\n",
       "    </tr>\n",
       "    <tr>\n",
       "      <th>1</th>\n",
       "      <td>3.654</td>\n",
       "      <td>1</td>\n",
       "      <td>1</td>\n",
       "      <td>610</td>\n",
       "      <td>3.0</td>\n",
       "      <td>420.0</td>\n",
       "      <td>2</td>\n",
       "      <td>chocolate, chips, ice cream</td>\n",
       "      <td>Stress, bored, anger</td>\n",
       "      <td>1.0</td>\n",
       "      <td>...</td>\n",
       "      <td>1.0</td>\n",
       "      <td>1.0</td>\n",
       "      <td>2</td>\n",
       "      <td>725.0</td>\n",
       "      <td>690</td>\n",
       "      <td>Basketball</td>\n",
       "      <td>4</td>\n",
       "      <td>2</td>\n",
       "      <td>900</td>\n",
       "      <td>155</td>\n",
       "    </tr>\n",
       "    <tr>\n",
       "      <th>2</th>\n",
       "      <td>3.300</td>\n",
       "      <td>1</td>\n",
       "      <td>1</td>\n",
       "      <td>720</td>\n",
       "      <td>4.0</td>\n",
       "      <td>420.0</td>\n",
       "      <td>2</td>\n",
       "      <td>frozen yogurt, pizza, fast food</td>\n",
       "      <td>stress, sadness</td>\n",
       "      <td>1.0</td>\n",
       "      <td>...</td>\n",
       "      <td>1.0</td>\n",
       "      <td>2.0</td>\n",
       "      <td>5</td>\n",
       "      <td>1165.0</td>\n",
       "      <td>500</td>\n",
       "      <td>none</td>\n",
       "      <td>5</td>\n",
       "      <td>1</td>\n",
       "      <td>900</td>\n",
       "      <td></td>\n",
       "    </tr>\n",
       "    <tr>\n",
       "      <th>3</th>\n",
       "      <td>3.200</td>\n",
       "      <td>1</td>\n",
       "      <td>1</td>\n",
       "      <td>430</td>\n",
       "      <td>3.0</td>\n",
       "      <td>420.0</td>\n",
       "      <td>2</td>\n",
       "      <td>Pizza, Mac and cheese, ice cream</td>\n",
       "      <td>Boredom</td>\n",
       "      <td>2.0</td>\n",
       "      <td>...</td>\n",
       "      <td>1.0</td>\n",
       "      <td>2.0</td>\n",
       "      <td>5</td>\n",
       "      <td>725.0</td>\n",
       "      <td>690</td>\n",
       "      <td></td>\n",
       "      <td>3</td>\n",
       "      <td>1</td>\n",
       "      <td>1315</td>\n",
       "      <td>240</td>\n",
       "    </tr>\n",
       "    <tr>\n",
       "      <th>4</th>\n",
       "      <td>3.500</td>\n",
       "      <td>1</td>\n",
       "      <td>1</td>\n",
       "      <td>720</td>\n",
       "      <td>2.0</td>\n",
       "      <td>420.0</td>\n",
       "      <td>2</td>\n",
       "      <td>Ice cream, chocolate, chips</td>\n",
       "      <td>Stress, boredom, cravings</td>\n",
       "      <td>1.0</td>\n",
       "      <td>...</td>\n",
       "      <td>1.0</td>\n",
       "      <td>1.0</td>\n",
       "      <td>4</td>\n",
       "      <td>940.0</td>\n",
       "      <td>500</td>\n",
       "      <td>Softball</td>\n",
       "      <td>4</td>\n",
       "      <td>2</td>\n",
       "      <td>760</td>\n",
       "      <td>190</td>\n",
       "    </tr>\n",
       "  </tbody>\n",
       "</table>\n",
       "<p>5 rows × 61 columns</p>\n",
       "</div>"
      ],
      "text/plain": [
       "     GPA  Gender  breakfast  calories_chicken calories_day calories_scone   \n",
       "0  2.400       2          1               430                       315.0  \\\n",
       "1  3.654       1          1               610          3.0          420.0   \n",
       "2  3.300       1          1               720          4.0          420.0   \n",
       "3  3.200       1          1               430          3.0          420.0   \n",
       "4  3.500       1          1               720          2.0          420.0   \n",
       "\n",
       "   coffee                      comfort_food        comfort_food_reasons   \n",
       "0       1                              none       we dont have comfort   \\\n",
       "1       2       chocolate, chips, ice cream        Stress, bored, anger   \n",
       "2       2   frozen yogurt, pizza, fast food             stress, sadness   \n",
       "3       2  Pizza, Mac and cheese, ice cream                     Boredom   \n",
       "4       2      Ice cream, chocolate, chips   Stress, boredom, cravings    \n",
       "\n",
       "  comfort_food_reasons_coded  ... soup  sports thai_food tortilla_calories   \n",
       "0                        9.0  ...  1.0     1.0         1            1165.0  \\\n",
       "1                        1.0  ...  1.0     1.0         2             725.0   \n",
       "2                        1.0  ...  1.0     2.0         5            1165.0   \n",
       "3                        2.0  ...  1.0     2.0         5             725.0   \n",
       "4                        1.0  ...  1.0     1.0         4             940.0   \n",
       "\n",
       "   turkey_calories  type_sports veggies_day  vitamins  waffle_calories  weight  \n",
       "0              345   car racing           5         1             1315     187  \n",
       "1              690  Basketball            4         2              900     155  \n",
       "2              500         none           5         1              900          \n",
       "3              690                        3         1             1315     240  \n",
       "4              500     Softball           4         2              760     190  \n",
       "\n",
       "[5 rows x 61 columns]"
      ]
     },
     "execution_count": 3252,
     "metadata": {},
     "output_type": "execute_result"
    }
   ],
   "source": [
    "# put your answer here\n",
    "df['weight'].replace(\"\\D\", value=\"\", inplace=True, regex=True)\n",
    "df.head()"
   ]
  },
  {
   "cell_type": "markdown",
   "metadata": {},
   "source": [
    "## Feature Scaling"
   ]
  },
  {
   "cell_type": "markdown",
   "metadata": {},
   "source": [
    "9. Create a new dataframe which contains the following columns:\n",
    "- calories_chicken\n",
    "- calories_scone\n",
    "- tortilla_calories\n",
    "- turkey_calories\n",
    "- waffle_calories"
   ]
  },
  {
   "cell_type": "code",
   "execution_count": 3253,
   "metadata": {},
   "outputs": [],
   "source": [
    "new_df = df[['calories_chicken', 'calories_scone', 'tortilla_calories', 'turkey_calories', 'waffle_calories']]"
   ]
  },
  {
   "cell_type": "markdown",
   "metadata": {},
   "source": [
    "10. Replace empty values on each column with zeroes using the `.replace()` function"
   ]
  },
  {
   "cell_type": "code",
   "execution_count": 3254,
   "metadata": {},
   "outputs": [
    {
     "name": "stderr",
     "output_type": "stream",
     "text": [
      "/var/folders/lj/8s5qp0cj4mnfrfh3nbj958l00000gp/T/ipykernel_1861/1533207182.py:2: SettingWithCopyWarning: \n",
      "A value is trying to be set on a copy of a slice from a DataFrame\n",
      "\n",
      "See the caveats in the documentation: https://pandas.pydata.org/pandas-docs/stable/user_guide/indexing.html#returning-a-view-versus-a-copy\n",
      "  new_df['calories_scone'].replace(\"\", value=\"0\", inplace = True)\n",
      "/var/folders/lj/8s5qp0cj4mnfrfh3nbj958l00000gp/T/ipykernel_1861/1533207182.py:3: SettingWithCopyWarning: \n",
      "A value is trying to be set on a copy of a slice from a DataFrame\n",
      "\n",
      "See the caveats in the documentation: https://pandas.pydata.org/pandas-docs/stable/user_guide/indexing.html#returning-a-view-versus-a-copy\n",
      "  new_df['tortilla_calories'].replace(\"\", value=\"0\", inplace = True)\n"
     ]
    }
   ],
   "source": [
    "# put your answer here\n",
    "new_df['calories_scone'].replace(\"\", value=\"0\", inplace = True)\n",
    "new_df['tortilla_calories'].replace(\"\", value=\"0\", inplace = True)"
   ]
  },
  {
   "cell_type": "markdown",
   "metadata": {},
   "source": [
    "11. Use the `astype()` function to convert all columns of the new dataframe to `int`"
   ]
  },
  {
   "cell_type": "code",
   "execution_count": 3255,
   "metadata": {},
   "outputs": [],
   "source": [
    "# put your answer here\n",
    "new_df = new_df.astype('int')"
   ]
  },
  {
   "cell_type": "markdown",
   "metadata": {},
   "source": [
    "12. Check the datatype of each column of the new dataframe using the `d_types` property"
   ]
  },
  {
   "cell_type": "code",
   "execution_count": 3256,
   "metadata": {},
   "outputs": [
    {
     "name": "stdout",
     "output_type": "stream",
     "text": [
      "calories_chicken     int64\n",
      "calories_scone       int64\n",
      "tortilla_calories    int64\n",
      "turkey_calories      int64\n",
      "waffle_calories      int64\n",
      "dtype: object\n"
     ]
    }
   ],
   "source": [
    "# put your answer here\n",
    "print(new_df.dtypes)"
   ]
  },
  {
   "cell_type": "markdown",
   "metadata": {},
   "source": [
    "13. Create a new instance of the `MinMaxScaler()` class"
   ]
  },
  {
   "cell_type": "code",
   "execution_count": 3257,
   "metadata": {},
   "outputs": [],
   "source": [
    "# put your answer here\n",
    "scaler = MinMaxScaler()"
   ]
  },
  {
   "cell_type": "markdown",
   "metadata": {},
   "source": [
    "14. Use the `fit_transform()` function to normalize all calorie features between 0 and 1"
   ]
  },
  {
   "cell_type": "code",
   "execution_count": 3258,
   "metadata": {},
   "outputs": [
    {
     "data": {
      "text/plain": [
       "array([[0.36263736, 0.32142857, 1.        , 0.        , 1.        ],\n",
       "       [0.75824176, 0.42857143, 0.6223176 , 0.68316832, 0.43918919],\n",
       "       [1.        , 0.42857143, 1.        , 0.30693069, 0.43918919],\n",
       "       [0.36263736, 0.42857143, 0.6223176 , 0.68316832, 1.        ],\n",
       "       [1.        , 0.42857143, 0.80686695, 0.30693069, 0.25      ],\n",
       "       [0.75824176, 1.        , 0.80686695, 0.        , 1.        ],\n",
       "       [0.75824176, 0.42857143, 0.80686695, 0.68316832, 1.        ],\n",
       "       [1.        , 0.42857143, 0.6223176 , 0.30693069, 1.        ],\n",
       "       [0.36263736, 0.42857143, 0.6223176 , 0.        , 0.25      ],\n",
       "       [0.36263736, 0.32142857, 0.49785408, 0.        , 0.43918919],\n",
       "       [0.75824176, 1.        , 0.80686695, 0.        , 0.43918919],\n",
       "       [1.        , 0.42857143, 0.80686695, 0.30693069, 0.43918919],\n",
       "       [0.36263736, 0.42857143, 0.80686695, 0.30693069, 0.        ],\n",
       "       [0.75824176, 0.42857143, 1.        , 1.        , 1.        ],\n",
       "       [0.75824176, 0.42857143, 0.80686695, 0.30693069, 0.43918919],\n",
       "       [0.36263736, 1.        , 0.80686695, 0.        , 1.        ],\n",
       "       [0.        , 0.42857143, 0.49785408, 0.        , 0.25      ],\n",
       "       [0.36263736, 1.        , 0.80686695, 0.30693069, 0.43918919],\n",
       "       [1.        , 1.        , 1.        , 0.68316832, 1.        ],\n",
       "       [0.36263736, 0.42857143, 0.80686695, 0.        , 0.43918919],\n",
       "       [0.75824176, 1.        , 1.        , 1.        , 1.        ],\n",
       "       [0.75824176, 0.32142857, 0.6223176 , 0.30693069, 0.43918919],\n",
       "       [0.75824176, 0.42857143, 0.80686695, 1.        , 1.        ],\n",
       "       [0.75824176, 0.42857143, 0.80686695, 0.68316832, 1.        ],\n",
       "       [1.        , 0.42857143, 0.80686695, 0.30693069, 1.        ],\n",
       "       [1.        , 0.42857143, 1.        , 0.68316832, 0.25      ],\n",
       "       [0.75824176, 0.42857143, 1.        , 1.        , 1.        ],\n",
       "       [0.75824176, 1.        , 1.        , 0.30693069, 1.        ],\n",
       "       [0.75824176, 0.42857143, 0.80686695, 0.30693069, 1.        ],\n",
       "       [0.        , 0.42857143, 0.49785408, 0.30693069, 0.25      ],\n",
       "       [1.        , 0.42857143, 0.80686695, 0.30693069, 1.        ],\n",
       "       [0.75824176, 0.42857143, 0.80686695, 0.68316832, 1.        ],\n",
       "       [0.75824176, 0.32142857, 0.49785408, 0.        , 0.25      ],\n",
       "       [1.        , 0.42857143, 1.        , 0.30693069, 0.43918919],\n",
       "       [0.75824176, 0.42857143, 0.80686695, 0.        , 1.        ],\n",
       "       [0.75824176, 0.42857143, 0.80686695, 0.68316832, 0.25      ],\n",
       "       [0.75824176, 0.42857143, 1.        , 0.30693069, 0.43918919],\n",
       "       [1.        , 0.42857143, 0.80686695, 0.30693069, 1.        ],\n",
       "       [0.75824176, 1.        , 1.        , 0.68316832, 1.        ],\n",
       "       [1.        , 1.        , 1.        , 0.68316832, 1.        ],\n",
       "       [0.36263736, 0.32142857, 0.80686695, 0.30693069, 0.25      ],\n",
       "       [1.        , 1.        , 0.80686695, 0.68316832, 1.        ],\n",
       "       [0.75824176, 0.42857143, 0.80686695, 0.30693069, 0.43918919],\n",
       "       [0.36263736, 1.        , 0.80686695, 0.        , 0.43918919],\n",
       "       [0.75824176, 0.42857143, 0.6223176 , 0.30693069, 0.25      ],\n",
       "       [0.75824176, 0.32142857, 0.80686695, 0.30693069, 0.43918919],\n",
       "       [0.36263736, 0.42857143, 0.6223176 , 0.        , 0.43918919],\n",
       "       [0.36263736, 1.        , 0.80686695, 0.        , 0.43918919],\n",
       "       [0.36263736, 0.32142857, 0.80686695, 0.        , 0.25      ],\n",
       "       [0.36263736, 0.32142857, 1.        , 0.68316832, 0.43918919],\n",
       "       [1.        , 0.42857143, 1.        , 0.30693069, 0.25      ],\n",
       "       [0.75824176, 1.        , 1.        , 0.30693069, 1.        ],\n",
       "       [0.75824176, 0.42857143, 1.        , 0.30693069, 0.43918919],\n",
       "       [0.75824176, 1.        , 0.80686695, 0.30693069, 1.        ],\n",
       "       [0.75824176, 0.42857143, 0.80686695, 0.68316832, 0.43918919],\n",
       "       [0.75824176, 0.32142857, 0.80686695, 0.30693069, 0.43918919],\n",
       "       [1.        , 0.32142857, 1.        , 0.30693069, 1.        ],\n",
       "       [0.75824176, 1.        , 0.6223176 , 0.        , 1.        ],\n",
       "       [0.75824176, 0.42857143, 1.        , 0.68316832, 1.        ],\n",
       "       [0.75824176, 0.42857143, 1.        , 0.30693069, 1.        ],\n",
       "       [0.75824176, 0.42857143, 1.        , 0.68316832, 1.        ],\n",
       "       [0.75824176, 1.        , 0.6223176 , 0.30693069, 1.        ],\n",
       "       [0.75824176, 1.        , 1.        , 1.        , 1.        ],\n",
       "       [0.75824176, 1.        , 1.        , 0.68316832, 1.        ],\n",
       "       [0.75824176, 0.42857143, 0.80686695, 0.30693069, 0.25      ],\n",
       "       [0.75824176, 0.32142857, 0.6223176 , 0.30693069, 0.43918919],\n",
       "       [1.        , 0.42857143, 0.80686695, 0.30693069, 0.43918919],\n",
       "       [0.75824176, 0.42857143, 0.80686695, 0.68316832, 1.        ],\n",
       "       [0.36263736, 0.32142857, 0.6223176 , 0.30693069, 0.25      ],\n",
       "       [1.        , 0.42857143, 1.        , 0.68316832, 1.        ],\n",
       "       [0.75824176, 1.        , 1.        , 0.30693069, 1.        ],\n",
       "       [1.        , 0.42857143, 1.        , 0.68316832, 1.        ],\n",
       "       [0.75824176, 1.        , 1.        , 0.        , 1.        ],\n",
       "       [1.        , 0.42857143, 1.        , 1.        , 1.        ],\n",
       "       [0.        , 0.42857143, 0.49785408, 0.        , 0.25      ],\n",
       "       [0.75824176, 0.42857143, 0.80686695, 0.30693069, 0.43918919],\n",
       "       [0.75824176, 0.42857143, 1.        , 0.68316832, 1.        ],\n",
       "       [0.        , 0.42857143, 0.6223176 , 0.        , 0.43918919],\n",
       "       [1.        , 0.42857143, 0.49785408, 0.        , 1.        ],\n",
       "       [1.        , 0.42857143, 1.        , 1.        , 1.        ],\n",
       "       [0.36263736, 0.42857143, 1.        , 0.30693069, 0.43918919],\n",
       "       [0.75824176, 0.42857143, 0.6223176 , 0.30693069, 0.43918919],\n",
       "       [0.        , 0.32142857, 0.49785408, 0.        , 0.        ],\n",
       "       [0.36263736, 0.42857143, 0.80686695, 0.68316832, 1.        ],\n",
       "       [1.        , 0.42857143, 0.6223176 , 0.68316832, 0.25      ],\n",
       "       [0.        , 0.32142857, 0.49785408, 0.30693069, 0.25      ],\n",
       "       [0.75824176, 0.42857143, 0.49785408, 0.30693069, 0.43918919],\n",
       "       [1.        , 0.42857143, 1.        , 0.68316832, 1.        ],\n",
       "       [1.        , 1.        , 1.        , 1.        , 1.        ],\n",
       "       [0.75824176, 0.42857143, 1.        , 0.30693069, 0.43918919],\n",
       "       [1.        , 0.42857143, 1.        , 1.        , 1.        ],\n",
       "       [0.75824176, 0.42857143, 0.6223176 , 0.30693069, 0.43918919],\n",
       "       [1.        , 0.42857143, 1.        , 0.68316832, 0.43918919],\n",
       "       [1.        , 0.42857143, 1.        , 0.68316832, 1.        ],\n",
       "       [0.75824176, 0.42857143, 0.80686695, 0.68316832, 1.        ],\n",
       "       [0.        , 0.42857143, 1.        , 0.68316832, 1.        ],\n",
       "       [0.36263736, 0.42857143, 0.6223176 , 0.30693069, 0.43918919],\n",
       "       [1.        , 0.42857143, 1.        , 0.30693069, 0.25      ],\n",
       "       [1.        , 0.32142857, 1.        , 0.68316832, 1.        ],\n",
       "       [0.36263736, 0.42857143, 1.        , 0.68316832, 0.43918919],\n",
       "       [0.75824176, 0.        , 0.        , 0.30693069, 0.43918919],\n",
       "       [0.75824176, 0.42857143, 1.        , 0.30693069, 1.        ],\n",
       "       [0.75824176, 0.42857143, 0.80686695, 0.30693069, 0.43918919],\n",
       "       [0.75824176, 0.42857143, 0.6223176 , 0.        , 0.25      ],\n",
       "       [1.        , 0.42857143, 0.80686695, 0.68316832, 1.        ],\n",
       "       [1.        , 0.42857143, 1.        , 0.68316832, 1.        ],\n",
       "       [0.36263736, 0.32142857, 0.49785408, 0.30693069, 0.25      ],\n",
       "       [0.36263736, 0.42857143, 1.        , 0.68316832, 0.43918919],\n",
       "       [0.36263736, 0.42857143, 0.49785408, 0.        , 0.25      ],\n",
       "       [0.75824176, 0.42857143, 0.80686695, 0.68316832, 1.        ],\n",
       "       [0.75824176, 0.32142857, 0.49785408, 0.68316832, 0.43918919],\n",
       "       [0.        , 1.        , 0.6223176 , 0.        , 1.        ],\n",
       "       [0.75824176, 0.32142857, 0.6223176 , 0.30693069, 0.43918919],\n",
       "       [0.36263736, 0.42857143, 1.        , 0.68316832, 0.43918919],\n",
       "       [0.75824176, 0.32142857, 0.80686695, 1.        , 0.25      ],\n",
       "       [0.75824176, 1.        , 1.        , 0.68316832, 1.        ],\n",
       "       [0.75824176, 0.42857143, 0.6223176 , 0.        , 1.        ],\n",
       "       [0.75824176, 0.32142857, 0.6223176 , 0.68316832, 0.25      ],\n",
       "       [0.36263736, 0.42857143, 0.80686695, 0.        , 1.        ],\n",
       "       [0.75824176, 0.42857143, 1.        , 0.68316832, 1.        ],\n",
       "       [0.75824176, 0.42857143, 0.80686695, 0.30693069, 1.        ],\n",
       "       [0.        , 0.32142857, 0.80686695, 0.30693069, 1.        ],\n",
       "       [1.        , 0.42857143, 0.49785408, 0.68316832, 1.        ],\n",
       "       [1.        , 0.42857143, 0.80686695, 0.30693069, 1.        ],\n",
       "       [0.36263736, 0.32142857, 0.6223176 , 0.        , 0.        ]])"
      ]
     },
     "execution_count": 3258,
     "metadata": {},
     "output_type": "execute_result"
    }
   ],
   "source": [
    "# put your answer here\n",
    "scaler.fit(new_df)\n",
    "\n",
    "scaled = scaler.transform(new_df)\n",
    "\n",
    "scaled"
   ]
  },
  {
   "cell_type": "markdown",
   "metadata": {},
   "source": [
    "## Discretization"
   ]
  },
  {
   "cell_type": "markdown",
   "metadata": {},
   "source": []
  },
  {
   "cell_type": "code",
   "execution_count": 3259,
   "metadata": {},
   "outputs": [],
   "source": [
    "df['weight'] = df['weight'].replace(\"\", value=\"0\")\n",
    "df['weight'] = df['weight'].astype(int)"
   ]
  },
  {
   "cell_type": "markdown",
   "metadata": {},
   "source": [
    "15. Use the matplotlib `hist()` function to create a histogram of the distribution of values of the weight column in the dataset"
   ]
  },
  {
   "cell_type": "code",
   "execution_count": 3260,
   "metadata": {},
   "outputs": [
    {
     "data": {
      "text/plain": [
       "<function matplotlib.pyplot.show(close=None, block=None)>"
      ]
     },
     "execution_count": 3260,
     "metadata": {},
     "output_type": "execute_result"
    },
    {
     "data": {
      "image/png": "[encoded data removed]",
      "text/plain": [
       "<Figure size 1000x1000 with 1 Axes>"
      ]
     },
     "metadata": {},
     "output_type": "display_data"
    }
   ],
   "source": [
    "# put your answer here\n",
    "\n",
    "plt.style.use('ggplot')\n",
    "plt.figure(figsize=(10, 10))\n",
    "plt.hist(df['weight'])\n",
    "plt.xlabel(\"Weight\")\n",
    "plt.ylabel(\"Weight Disribution\")\n",
    "plt.title(\"Weight Distribution Histogram\")\n",
    "plt.show"
   ]
  },
  {
   "cell_type": "markdown",
   "metadata": {},
   "source": [
    "16. Pass a three (3) bins to the matplotlib `hist()` function to create a histogram of the distribution of values of the weight column "
   ]
  },
  {
   "cell_type": "code",
   "execution_count": 3261,
   "metadata": {},
   "outputs": [
    {
     "data": {
      "text/plain": [
       "(array([ 3., 89., 33.]),\n",
       " array([  0.        ,  88.33333333, 176.66666667, 265.        ]),\n",
       " <BarContainer object of 3 artists>)"
      ]
     },
     "execution_count": 3261,
     "metadata": {},
     "output_type": "execute_result"
    },
    {
     "data": {
      "image/png": "[encoded data removed]",
      "text/plain": [
       "<Figure size 640x480 with 1 Axes>"
      ]
     },
     "metadata": {},
     "output_type": "display_data"
    }
   ],
   "source": [
    "bins = 3\n",
    "plt.hist(df['weight'], bins=bins, edgecolor='black')"
   ]
  },
  {
   "cell_type": "markdown",
   "metadata": {},
   "source": [
    "17. Use the seaborn `histplot()` function to create a histogram:\n",
    "\n",
    "    - Create three bins **0 to 100**, 1**00 to 200**, **200 to 300**\n",
    "    - Name the first bin from **0 to 100** as **Underweight**\n",
    "    - Name the second bin from **0 to 100** as **Normal**\n",
    "    - Name the third bin from **0 to 100** as **Overweight**\n",
    "\n",
    "    - Set the `set_xticks()` to **0,150,250**\n",
    "    - Set the `set_xticklabels()` to **\"Underweight\", \"Normal\", \"Overweight\"**\n"
   ]
  },
  {
   "cell_type": "code",
   "execution_count": 3262,
   "metadata": {},
   "outputs": [
    {
     "data": {
      "image/png": "[encoded data removed]",
      "text/plain": [
       "<Figure size 640x480 with 1 Axes>"
      ]
     },
     "metadata": {},
     "output_type": "display_data"
    }
   ],
   "source": [
    "sns.set()\n",
    "h = sns.histplot(df['weight'], bins=[0,100,200,300])\n",
    "\n",
    "plt.xlabel('Weight')\n",
    "plt.ylabel('Frequency')\n",
    "plt.title('Weight Distributions')\n",
    "\n",
    "h.set_xticks([0,150,250])\n",
    "h.set_xticklabels([\"Underweight\", \"Normal\", \"Overweight\"])\n",
    "plt.show()"
   ]
  }
 ],
 "metadata": {
  "kernelspec": {
   "display_name": "Python 3",
   "language": "python",
   "name": "python3"
  },
  "language_info": {
   "codemirror_mode": {
    "name": "ipython",
    "version": 3
   },
   "file_extension": ".py",
   "mimetype": "text/x-python",
   "name": "python",
   "nbconvert_exporter": "python",
   "pygments_lexer": "ipython3",
   "version": "3.11.4"
  },
  "orig_nbformat": 4
 },
 "nbformat": 4,
 "nbformat_minor": 2
}
