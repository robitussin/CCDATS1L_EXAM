{
  "cells": [
    {
      "cell_type": "markdown",
      "metadata": {
        "id": "view-in-github",
        "colab_type": "text"
      },
      "source": [
        "<a href=\"https://colab.research.google.com/github/robitussin/CCDATS1L_EXAM/blob/main/machine_problem_1.ipynb\" target=\"_parent\"><img src=\"https://colab.research.google.com/assets/colab-badge.svg\" alt=\"Open In Colab\"/></a>"
      ]
    },
    {
      "cell_type": "markdown",
      "metadata": {
        "id": "_NJNtBBtF8xi"
      },
      "source": [
        "# Machine Problem 1"
      ]
    },
    {
      "cell_type": "markdown",
      "source": [
        "Instructions ❗️❗️\n",
        "\n",
        "❌ Do not remove or modify the notebook sections, subsections, exam questions or any text in this python notebook\n",
        "\n",
        "✔️ Put your answer in the designated cells below each question"
      ],
      "metadata": {
        "id": "8EceuOTIGcsH"
      }
    },
    {
      "cell_type": "code",
      "execution_count": null,
      "metadata": {
        "id": "MqOQkbEFF8xr"
      },
      "outputs": [],
      "source": [
        "import pandas as pd\n",
        "from sklearn.preprocessing import MinMaxScaler\n",
        "import matplotlib.pyplot as plt\n",
        "import seaborn as sns"
      ]
    },
    {
      "cell_type": "markdown",
      "metadata": {
        "id": "oYLBYVQJF8xs"
      },
      "source": [
        "## Data Cleaning"
      ]
    },
    {
      "cell_type": "code",
      "execution_count": null,
      "metadata": {
        "id": "0ElL8OL8F8xs"
      },
      "outputs": [],
      "source": [
        "df = pd.read_csv('food.csv')"
      ]
    },
    {
      "cell_type": "markdown",
      "metadata": {
        "id": "ix_kMM-XF8xs"
      },
      "source": [
        "1. Remove all duplicates in the dataset. `(6 points)`"
      ]
    },
    {
      "cell_type": "code",
      "execution_count": null,
      "metadata": {
        "id": "mpzOx-X-F8xs"
      },
      "outputs": [],
      "source": [
        "# put your answer here"
      ]
    },
    {
      "cell_type": "markdown",
      "metadata": {
        "id": "Tb377rMBF8xs"
      },
      "source": [
        "2. Use the pandas `isnull()` and `any()` function to check for NaN values in each column. `(6 points)`"
      ]
    },
    {
      "cell_type": "code",
      "execution_count": null,
      "metadata": {
        "id": "LQXVPklyF8xs"
      },
      "outputs": [],
      "source": [
        "# put your answer here"
      ]
    },
    {
      "cell_type": "markdown",
      "metadata": {
        "id": "TyoG9phhF8xs"
      },
      "source": [
        "3. Retrieve all rows with NaN values in the dataset by using the pandas `isnull()` and `.any()` inside a dataframe. `(6 points)`"
      ]
    },
    {
      "cell_type": "code",
      "execution_count": null,
      "metadata": {
        "id": "-G2tpTIQF8xt"
      },
      "outputs": [],
      "source": [
        "# put your answer here\n"
      ]
    },
    {
      "cell_type": "markdown",
      "metadata": {
        "id": "Q_P9uwRLF8xt"
      },
      "source": [
        "4. Put all of the columns with NaN values in a list. Print the contents of the list. `(6 points)`"
      ]
    },
    {
      "cell_type": "code",
      "execution_count": null,
      "metadata": {
        "id": "vDzavt2kF8xt"
      },
      "outputs": [],
      "source": [
        "# put your answer here\n"
      ]
    },
    {
      "cell_type": "markdown",
      "metadata": {
        "id": "sNL93oDzF8xt"
      },
      "source": [
        "5. Loop through the list that contains columns with NaN values and use the `fillna()` function to replace NaN values with empty an string. `(6 points)`"
      ]
    },
    {
      "cell_type": "code",
      "execution_count": null,
      "metadata": {
        "id": "zjCZGnytF8xt"
      },
      "outputs": [],
      "source": [
        "# put your answer here\n"
      ]
    },
    {
      "cell_type": "markdown",
      "metadata": {
        "id": "S6DEXjj1F8xt"
      },
      "source": [
        "6. In th **GPA** column, replace non-numeric values with zeroes. `(6 points)`"
      ]
    },
    {
      "cell_type": "code",
      "execution_count": null,
      "metadata": {
        "id": "xcyNAdGOF8xt"
      },
      "outputs": [],
      "source": [
        "# put your answer here"
      ]
    },
    {
      "cell_type": "markdown",
      "metadata": {
        "id": "c4zWA3DCF8xt"
      },
      "source": [
        "7. In the **comfort_food** column, replace empty values with \"none\". `(6 points)`"
      ]
    },
    {
      "cell_type": "code",
      "execution_count": null,
      "metadata": {
        "id": "A6FFrmVxF8xu"
      },
      "outputs": [],
      "source": [
        "# put your answer here\n"
      ]
    },
    {
      "cell_type": "markdown",
      "metadata": {
        "id": "PfE-HDRkF8xu"
      },
      "source": [
        "8. In the **weight** column, replace non-numeric values with \"\". `(6 points)`"
      ]
    },
    {
      "cell_type": "code",
      "execution_count": null,
      "metadata": {
        "id": "v0g7yb4YF8xu"
      },
      "outputs": [],
      "source": [
        "# put your answer here"
      ]
    },
    {
      "cell_type": "markdown",
      "metadata": {
        "id": "PCwSu3QZF8xu"
      },
      "source": [
        "## Feature Scaling"
      ]
    },
    {
      "cell_type": "markdown",
      "metadata": {
        "id": "SUGE273SF8xu"
      },
      "source": [
        "9. Create a new dataframe which contains the following columns: `(6 points)`\n",
        "- calories_chicken\n",
        "- calories_scone\n",
        "- tortilla_calories\n",
        "- turkey_calories\n",
        "- waffle_calories"
      ]
    },
    {
      "cell_type": "code",
      "execution_count": null,
      "metadata": {
        "id": "8flM0N6gF8xu"
      },
      "outputs": [],
      "source": [
        "# put your answer here\n"
      ]
    },
    {
      "cell_type": "markdown",
      "metadata": {
        "id": "5jAfCHIXF8xu"
      },
      "source": [
        "10. Replace the empty values un calorie column with zeroes using the `replace()` function. `(6 points)`"
      ]
    },
    {
      "cell_type": "code",
      "execution_count": null,
      "metadata": {
        "id": "IG-AUZyHF8xu"
      },
      "outputs": [],
      "source": [
        "# put your answer here"
      ]
    },
    {
      "cell_type": "markdown",
      "metadata": {
        "id": "cYpiuog6F8xu"
      },
      "source": [
        "11. Use the `astype()` function to convert all columns of the new dataframe to `int`. `(6 points)`"
      ]
    },
    {
      "cell_type": "code",
      "execution_count": null,
      "metadata": {
        "id": "xUST6Zp1F8xu"
      },
      "outputs": [],
      "source": [
        "# put your answer here"
      ]
    },
    {
      "cell_type": "markdown",
      "metadata": {
        "id": "OjswZ10bF8xu"
      },
      "source": [
        "12. Check the datatype of each column of the new dataframe using the `d_types` property. `(6 points)`"
      ]
    },
    {
      "cell_type": "code",
      "execution_count": null,
      "metadata": {
        "id": "yGul3cfIF8xv"
      },
      "outputs": [],
      "source": [
        "# put your answer here"
      ]
    },
    {
      "cell_type": "markdown",
      "metadata": {
        "id": "13bBW40QF8xv"
      },
      "source": [
        "13. Create a new instance of the `MinMaxScaler()` class. `(6 points)`"
      ]
    },
    {
      "cell_type": "code",
      "execution_count": null,
      "metadata": {
        "id": "kXg0JTOeF8xv"
      },
      "outputs": [],
      "source": [
        "# put your answer here"
      ]
    },
    {
      "cell_type": "markdown",
      "metadata": {
        "id": "Sgg_O3O-F8xv"
      },
      "source": [
        "14. Use the `fit_transform()` function to normalize all calorie features between 0 and 1. `(6 points)`"
      ]
    },
    {
      "cell_type": "code",
      "execution_count": null,
      "metadata": {
        "id": "wIypE0OjF8xv"
      },
      "outputs": [],
      "source": [
        "# put your answer here"
      ]
    },
    {
      "cell_type": "markdown",
      "metadata": {
        "id": "E6_ZeIjRF8xv"
      },
      "source": [
        "## Discretization"
      ]
    },
    {
      "cell_type": "code",
      "execution_count": null,
      "metadata": {
        "id": "sfwl39OyF8xv"
      },
      "outputs": [],
      "source": [
        "# Code to replace empty values with zeroes\n",
        "df['weight'] = df['weight'].replace(\"\", value=\"0\")\n",
        "\n",
        "# Code to convert the weight column to int\n",
        "df['weight'] = df['weight'].astype(int)"
      ]
    },
    {
      "cell_type": "markdown",
      "metadata": {
        "id": "NlihnS0uF8xv"
      },
      "source": [
        "15. Use the matplotlib `hist()` function to create a histogram of the distribution of values of the weight column in the dataset. `(6 points)`"
      ]
    },
    {
      "cell_type": "code",
      "execution_count": null,
      "metadata": {
        "id": "uXk3nF08F8xv"
      },
      "outputs": [],
      "source": [
        "# put your answer here"
      ]
    },
    {
      "cell_type": "markdown",
      "metadata": {
        "id": "zDrO_-dTF8xv"
      },
      "source": [
        "16. Pass three (3) bins to the matplotlib `hist()` function to create a histogram of the distribution of values of the weight column. `(6 points)`"
      ]
    },
    {
      "cell_type": "code",
      "execution_count": null,
      "metadata": {
        "id": "bHIvenbuF8xw"
      },
      "outputs": [],
      "source": [
        "# put your answer here\n"
      ]
    },
    {
      "cell_type": "markdown",
      "metadata": {
        "id": "NMM1ZpNxF8xw"
      },
      "source": [
        "17. Use the seaborn `histplot()` function to create a histogram:. `(6 points)`\n",
        "\n",
        "    - Create three bins **0 to 100**, 1**00 to 200**, **200 to 300**\n",
        "    - Name the first bin from **0 to 100** as **Underweight**\n",
        "    - Name the second bin from **0 to 100** as **Normal**\n",
        "    - Name the third bin from **0 to 100** as **Overweight**\n",
        "\n",
        "    - Set the `set_xticks()` to **0,150,250**\n",
        "    - Set the `set_xticklabels()` to **\"Underweight\", \"Normal\", \"Overweight\"**\n"
      ]
    },
    {
      "cell_type": "code",
      "execution_count": null,
      "metadata": {
        "id": "eKNf7vDsF8xw"
      },
      "outputs": [],
      "source": [
        "# put your answer here"
      ]
    }
  ],
  "metadata": {
    "kernelspec": {
      "display_name": "Python 3",
      "language": "python",
      "name": "python3"
    },
    "language_info": {
      "codemirror_mode": {
        "name": "ipython",
        "version": 3
      },
      "file_extension": ".py",
      "mimetype": "text/x-python",
      "name": "python",
      "nbconvert_exporter": "python",
      "pygments_lexer": "ipython3",
      "version": "3.11.4"
    },
    "orig_nbformat": 4,
    "colab": {
      "provenance": [],
      "include_colab_link": true
    }
  },
  "nbformat": 4,
  "nbformat_minor": 0
}